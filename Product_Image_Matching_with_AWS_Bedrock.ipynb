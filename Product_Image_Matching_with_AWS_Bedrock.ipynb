{
 "cells": [
  {
   "cell_type": "code",
   "execution_count": 34,
   "id": "984d1ffe",
   "metadata": {},
   "outputs": [],
   "source": [
    "import boto3\n",
    "from botocore.exceptions import NoCredentialsError\n",
    "import base64\n",
    "import json\n",
    "import os\n",
    "import pandas as pd\n",
    "from sklearn.metrics.pairwise import cosine_similarity\n",
    "import uuid"
   ]
  },
  {
   "cell_type": "markdown",
   "id": "4b05aa59",
   "metadata": {},
   "source": [
    "# Initialize Bedrock runtime "
   ]
  },
  {
   "cell_type": "code",
   "execution_count": 38,
   "id": "3afdb2fd",
   "metadata": {},
   "outputs": [],
   "source": [
    "# Set the AWS profile (replace 'your-profile-name' with your actual profile name)\n",
    "aws_profile = 'your-profile-name'\n",
    "\n",
    "try:\n",
    "    boto3.setup_default_session(profile_name=aws_profile)\n",
    "    bedrock_runtime = boto3.client(\n",
    "        service_name=\"bedrock-runtime\",\n",
    "        region_name=\"us-east-1\"\n",
    "    )\n",
    "except NoCredentialsError:\n",
    "    print(\"Credentials not found. Please configure your AWS profile.\")"
   ]
  },
  {
   "cell_type": "markdown",
   "id": "f95f9784",
   "metadata": {},
   "source": [
    "# Paths to images"
   ]
  },
  {
   "cell_type": "code",
   "execution_count": 39,
   "id": "9a36f442",
   "metadata": {},
   "outputs": [
    {
     "data": {
      "text/html": [
       "<div>\n",
       "<style scoped>\n",
       "    .dataframe tbody tr th:only-of-type {\n",
       "        vertical-align: middle;\n",
       "    }\n",
       "\n",
       "    .dataframe tbody tr th {\n",
       "        vertical-align: top;\n",
       "    }\n",
       "\n",
       "    .dataframe thead th {\n",
       "        text-align: right;\n",
       "    }\n",
       "</style>\n",
       "<table border=\"1\" class=\"dataframe\">\n",
       "  <thead>\n",
       "    <tr style=\"text-align: right;\">\n",
       "      <th></th>\n",
       "      <th>ID</th>\n",
       "      <th>image</th>\n",
       "      <th>vector</th>\n",
       "      <th>description</th>\n",
       "    </tr>\n",
       "  </thead>\n",
       "  <tbody>\n",
       "    <tr>\n",
       "      <th>0</th>\n",
       "      <td>af72fd21-6da6-483b-b91f-5a2bb9cfcf5c</td>\n",
       "      <td>1.png</td>\n",
       "      <td>[0.026412552, 0.018193262, -0.02678196, -0.041...</td>\n",
       "      <td>Red bag</td>\n",
       "    </tr>\n",
       "    <tr>\n",
       "      <th>1</th>\n",
       "      <td>749f855f-3a73-4482-bea9-8bf1872e10fd</td>\n",
       "      <td>2.png</td>\n",
       "      <td>[0.011002224, 0.008811103, -0.026293451, -0.03...</td>\n",
       "      <td>Brown bag</td>\n",
       "    </tr>\n",
       "    <tr>\n",
       "      <th>2</th>\n",
       "      <td>1e85b159-2415-4d9a-898e-527c979ae09a</td>\n",
       "      <td>3.png</td>\n",
       "      <td>[0.038916796, -0.011730901, -0.0054464894, -0....</td>\n",
       "      <td>Blue bag</td>\n",
       "    </tr>\n",
       "    <tr>\n",
       "      <th>3</th>\n",
       "      <td>41eac171-0a19-47a7-88db-0d6948e39d70</td>\n",
       "      <td>4.png</td>\n",
       "      <td>[0.029844122, 0.015299835, 0.0043916195, -0.05...</td>\n",
       "      <td>Pink bag</td>\n",
       "    </tr>\n",
       "    <tr>\n",
       "      <th>4</th>\n",
       "      <td>a1ef6a75-5c81-48c4-bd3f-46834975f7ff</td>\n",
       "      <td>5.png</td>\n",
       "      <td>[0.03972358, 0.0044689025, -0.005123439, -0.04...</td>\n",
       "      <td>Mint bag</td>\n",
       "    </tr>\n",
       "    <tr>\n",
       "      <th>5</th>\n",
       "      <td>64e2b838-f5a1-4ce3-baa3-f5161e92d942</td>\n",
       "      <td>6.png</td>\n",
       "      <td>[0.0037585772, -0.0036411216, 0.002607513, -0....</td>\n",
       "      <td>Salmon bag</td>\n",
       "    </tr>\n",
       "    <tr>\n",
       "      <th>6</th>\n",
       "      <td>d307fb23-d31d-493f-8a25-955c9ba1d454</td>\n",
       "      <td>7.png</td>\n",
       "      <td>[0.014139218, 0.0027335822, 0.010415891, -0.03...</td>\n",
       "      <td>Black bag</td>\n",
       "    </tr>\n",
       "  </tbody>\n",
       "</table>\n",
       "</div>"
      ],
      "text/plain": [
       "                                     ID  image  \\\n",
       "0  af72fd21-6da6-483b-b91f-5a2bb9cfcf5c  1.png   \n",
       "1  749f855f-3a73-4482-bea9-8bf1872e10fd  2.png   \n",
       "2  1e85b159-2415-4d9a-898e-527c979ae09a  3.png   \n",
       "3  41eac171-0a19-47a7-88db-0d6948e39d70  4.png   \n",
       "4  a1ef6a75-5c81-48c4-bd3f-46834975f7ff  5.png   \n",
       "5  64e2b838-f5a1-4ce3-baa3-f5161e92d942  6.png   \n",
       "6  d307fb23-d31d-493f-8a25-955c9ba1d454  7.png   \n",
       "\n",
       "                                              vector description  \n",
       "0  [0.026412552, 0.018193262, -0.02678196, -0.041...     Red bag  \n",
       "1  [0.011002224, 0.008811103, -0.026293451, -0.03...   Brown bag  \n",
       "2  [0.038916796, -0.011730901, -0.0054464894, -0....    Blue bag  \n",
       "3  [0.029844122, 0.015299835, 0.0043916195, -0.05...    Pink bag  \n",
       "4  [0.03972358, 0.0044689025, -0.005123439, -0.04...    Mint bag  \n",
       "5  [0.0037585772, -0.0036411216, 0.002607513, -0....  Salmon bag  \n",
       "6  [0.014139218, 0.0027335822, 0.010415891, -0.03...   Black bag  "
      ]
     },
     "execution_count": 39,
     "metadata": {},
     "output_type": "execute_result"
    }
   ],
   "source": [
    "image_path = \"data/bags\"\n",
    "image_paths = [\"1.png\", \"2.png\", \"3.png\", \"4.png\", \"5.png\", \"6.png\", \"7.png\"]\n",
    "descriptions = [\"Red bag\", \"Brown bag\", \"Blue bag\", \"Pink bag\", \"Mint bag\", \"Salmon bag\", \"Black bag\"]\n",
    "\n",
    "# Create embeddings for each image and store in a DataFrame\n",
    "embeddings = []\n",
    "ids = []\n",
    "for filename in image_paths:\n",
    "    full_path = os.path.join(image_path, filename)\n",
    "    image_base64 = encode_image_to_base64(full_path)\n",
    "    embedding = get_embedding(image_base64=image_base64)\n",
    "    embeddings.append(embedding)\n",
    "    ids.append(str(uuid.uuid4()))  # Generate a unique ID\n",
    "\n",
    "# Create a DataFrame with columns for ID, image, and vector\n",
    "df = pd.DataFrame({'ID': ids, 'image': image_paths, 'vector': embeddings, 'description': descriptions})\n",
    "df"
   ]
  },
  {
   "cell_type": "markdown",
   "id": "71a737af",
   "metadata": {},
   "source": [
    "# Embedding for customer query"
   ]
  },
  {
   "cell_type": "code",
   "execution_count": 49,
   "id": "6b0d09b0",
   "metadata": {},
   "outputs": [
    {
     "data": {
      "text/plain": [
       "[-0.0027618408, 0.010559082]"
      ]
     },
     "execution_count": 49,
     "metadata": {},
     "output_type": "execute_result"
    }
   ],
   "source": [
    "customer_query = \"Hi! I'm looking for a red bag\"\n",
    "query_embedding = get_embedding(text_description=customer_query)\n",
    "query_embedding[:2]"
   ]
  },
  {
   "cell_type": "markdown",
   "id": "aa4dac5f",
   "metadata": {},
   "source": [
    "# Calculate cosine similarity"
   ]
  },
  {
   "cell_type": "code",
   "execution_count": 41,
   "id": "5056e732",
   "metadata": {},
   "outputs": [
    {
     "data": {
      "text/plain": [
       "image\n",
       "1.png    0.398314\n",
       "2.png    0.391526\n",
       "6.png    0.351008\n",
       "4.png    0.347009\n",
       "3.png    0.336229\n",
       "5.png    0.327345\n",
       "7.png    0.325239\n",
       "dtype: float64"
      ]
     },
     "execution_count": 41,
     "metadata": {},
     "output_type": "execute_result"
    }
   ],
   "source": [
    "# Extracting only the vectors from the DataFrame for comparison\n",
    "vectors = list(df['vector'])\n",
    "\n",
    "# Calculate cosine similarity between the query embedding and the vectors\n",
    "cosine_scores = cosine_similarity([query_embedding], vectors)[0]\n",
    "\n",
    "# Combine the description and image name into a single string for each row\n",
    "combined_info = df['description'] + \" (\" + df['image'] + \")\"\n",
    "\n",
    "# Create a series with these scores and the corresponding IDs or Image names\n",
    "df_scores = pd.Series(cosine_scores, index=df['image'])  # Or use df['Image'] if you prefer image names\n",
    "\n",
    "# Sort the scores in descending order\n",
    "sorted_scores = df_scores.sort_values(ascending=False)\n",
    "sorted_scores"
   ]
  },
  {
   "cell_type": "markdown",
   "id": "0b212a43",
   "metadata": {},
   "source": [
    "# Display scores and matching images"
   ]
  },
  {
   "cell_type": "code",
   "execution_count": 50,
   "id": "5232093c",
   "metadata": {},
   "outputs": [
    {
     "data": {
      "text/html": [
       "<h3>Query: 'Hi! I'm looking for a red bag'</h3><table><tr><td style='text-align:center'><img src='data/bags/1.png' width='100'><br>1.png<br>Score: 0.40</td><td style='text-align:center'><img src='data/bags/2.png' width='100'><br>2.png<br>Score: 0.39</td><td style='text-align:center'><img src='data/bags/6.png' width='100'><br>6.png<br>Score: 0.35</td><td style='text-align:center'><img src='data/bags/4.png' width='100'><br>4.png<br>Score: 0.35</td><td style='text-align:center'><img src='data/bags/3.png' width='100'><br>3.png<br>Score: 0.34</td><td style='text-align:center'><img src='data/bags/5.png' width='100'><br>5.png<br>Score: 0.33</td><td style='text-align:center'><img src='data/bags/7.png' width='100'><br>7.png<br>Score: 0.33</td></tr></table>"
      ],
      "text/plain": [
       "<IPython.core.display.HTML object>"
      ]
     },
     "metadata": {},
     "output_type": "display_data"
    }
   ],
   "source": [
    "from IPython.core.display import HTML\n",
    "\n",
    "# Initialize an HTML string\n",
    "html_str = f\"<h3>Query: '{customer_query}'</h3><table><tr>\"\n",
    "\n",
    "# Loop through sorted scores and images\n",
    "for filename, score in sorted_scores.items():\n",
    "    image_path = os.path.join('data', 'bags', filename)\n",
    "    \n",
    "    # Adding each image and its details to the HTML string\n",
    "    html_str += f\"<td style='text-align:center'><img src='{image_path}' width='100'><br>{filename}<br>Score: {score:.2f}</td>\"\n",
    "\n",
    "html_str += \"</tr></table>\"\n",
    "\n",
    "# Display the HTML\n",
    "display(HTML(html_str))\n"
   ]
  },
  {
   "cell_type": "markdown",
   "id": "b14dcc6d",
   "metadata": {},
   "source": [
    "# Function to encode an image to base64"
   ]
  },
  {
   "cell_type": "code",
   "execution_count": 32,
   "id": "ef021596",
   "metadata": {},
   "outputs": [],
   "source": [
    "def encode_image_to_base64(image_path):\n",
    "    with open(image_path, \"rb\") as image_file:\n",
    "        return base64.b64encode(image_file.read()).decode('utf8')"
   ]
  },
  {
   "cell_type": "markdown",
   "id": "839eec32",
   "metadata": {},
   "source": [
    "# Function to get embedding from AWS Bedrock"
   ]
  },
  {
   "cell_type": "code",
   "execution_count": 33,
   "id": "dc8511ad",
   "metadata": {},
   "outputs": [],
   "source": [
    "def get_embedding(image_base64=None, text_description=None):\n",
    "    input_data = {}\n",
    "\n",
    "    if image_base64 is not None:\n",
    "        input_data[\"inputImage\"] = image_base64\n",
    "    if text_description is not None:\n",
    "        input_data[\"inputText\"] = text_description\n",
    "\n",
    "    if not input_data:\n",
    "        raise ValueError(\"At least one of image_base64 or text_description must be provided\")\n",
    "\n",
    "    body = json.dumps(input_data)\n",
    "\n",
    "    response = bedrock_runtime.invoke_model(\n",
    "        body=body,\n",
    "        modelId=\"amazon.titan-embed-image-v1\",\n",
    "        accept=\"application/json\",\n",
    "        contentType=\"application/json\"\n",
    "    )\n",
    "\n",
    "    response_body = json.loads(response.get(\"body\").read())\n",
    "    return response_body.get(\"embedding\")\n"
   ]
  },
  {
   "cell_type": "code",
   "execution_count": null,
   "id": "aa9aa39d",
   "metadata": {},
   "outputs": [],
   "source": []
  }
 ],
 "metadata": {
  "kernelspec": {
   "display_name": "Python 3 (ipykernel)",
   "language": "python",
   "name": "python3"
  },
  "language_info": {
   "codemirror_mode": {
    "name": "ipython",
    "version": 3
   },
   "file_extension": ".py",
   "mimetype": "text/x-python",
   "name": "python",
   "nbconvert_exporter": "python",
   "pygments_lexer": "ipython3",
   "version": "3.9.13"
  }
 },
 "nbformat": 4,
 "nbformat_minor": 5
}
